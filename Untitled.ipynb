{
 "cells": [
  {
   "cell_type": "code",
   "execution_count": null,
   "id": "5f9e0af5-ab23-4f46-a536-f9e2afb72856",
   "metadata": {
    "scrolled": true
   },
   "outputs": [],
   "source": [
    "%run feature.py\n"
   ]
  },
  {
   "cell_type": "code",
   "execution_count": null,
   "id": "30aa5051-66ce-4c37-9117-7ebbd6fb9c0c",
   "metadata": {},
   "outputs": [],
   "source": [
    "pip install googlesearch-python\n"
   ]
  },
  {
   "cell_type": "code",
   "execution_count": 4,
   "id": "fe281f04-c8b8-406a-bbdd-48d2c56393a0",
   "metadata": {},
   "outputs": [
    {
     "name": "stdout",
     "output_type": "stream",
     "text": [
      "Collecting python-whoisNote: you may need to restart the kernel to use updated packages.\n",
      "\n",
      "  Downloading python_whois-0.9.5-py3-none-any.whl.metadata (2.6 kB)\n",
      "Requirement already satisfied: python-dateutil in c:\\users\\elcot\\appdata\\local\\programs\\python\\python313\\lib\\site-packages (from python-whois) (2.9.0.post0)\n",
      "Requirement already satisfied: six>=1.5 in c:\\users\\elcot\\appdata\\local\\programs\\python\\python313\\lib\\site-packages (from python-dateutil->python-whois) (1.16.0)\n",
      "Downloading python_whois-0.9.5-py3-none-any.whl (104 kB)\n",
      "Installing collected packages: python-whois\n",
      "Successfully installed python-whois-0.9.5\n"
     ]
    }
   ],
   "source": [
    "pip install python-whois\n"
   ]
  },
  {
   "cell_type": "code",
   "execution_count": null,
   "id": "b349957e-7775-45ec-b304-85dbb2755e37",
   "metadata": {},
   "outputs": [
    {
     "name": "stdout",
     "output_type": "stream",
     "text": [
      " * Serving Flask app 'app'\n",
      " * Debug mode: off\n"
     ]
    },
    {
     "name": "stderr",
     "output_type": "stream",
     "text": [
      "WARNING: This is a development server. Do not use it in a production deployment. Use a production WSGI server instead.\n",
      " * Running on http://127.0.0.1:5000\n",
      "Press CTRL+C to quit\n"
     ]
    }
   ],
   "source": [
    "%run app.py"
   ]
  },
  {
   "cell_type": "code",
   "execution_count": 6,
   "id": "57bf94b4-f093-4a48-b815-d9a1a2c34a82",
   "metadata": {},
   "outputs": [
    {
     "name": "stdout",
     "output_type": "stream",
     "text": [
      "Collecting flask-cors\n",
      "  Downloading flask_cors-5.0.1-py3-none-any.whl.metadata (961 bytes)\n",
      "Requirement already satisfied: flask>=0.9 in c:\\users\\elcot\\appdata\\local\\programs\\python\\python313\\lib\\site-packages (from flask-cors) (3.1.0)\n",
      "Requirement already satisfied: Werkzeug>=0.7 in c:\\users\\elcot\\appdata\\local\\programs\\python\\python313\\lib\\site-packages (from flask-cors) (3.1.3)\n",
      "Requirement already satisfied: Jinja2>=3.1.2 in c:\\users\\elcot\\appdata\\local\\programs\\python\\python313\\lib\\site-packages (from flask>=0.9->flask-cors) (3.1.4)\n",
      "Requirement already satisfied: itsdangerous>=2.2 in c:\\users\\elcot\\appdata\\local\\programs\\python\\python313\\lib\\site-packages (from flask>=0.9->flask-cors) (2.2.0)\n",
      "Requirement already satisfied: click>=8.1.3 in c:\\users\\elcot\\appdata\\local\\programs\\python\\python313\\lib\\site-packages (from flask>=0.9->flask-cors) (8.1.8)\n",
      "Requirement already satisfied: blinker>=1.9 in c:\\users\\elcot\\appdata\\local\\programs\\python\\python313\\lib\\site-packages (from flask>=0.9->flask-cors) (1.9.0)\n",
      "Requirement already satisfied: MarkupSafe>=2.1.1 in c:\\users\\elcot\\appdata\\local\\programs\\python\\python313\\lib\\site-packages (from Werkzeug>=0.7->flask-cors) (3.0.2)\n",
      "Requirement already satisfied: colorama in c:\\users\\elcot\\appdata\\local\\programs\\python\\python313\\lib\\site-packages (from click>=8.1.3->flask>=0.9->flask-cors) (0.4.6)\n",
      "Downloading flask_cors-5.0.1-py3-none-any.whl (11 kB)\n",
      "Installing collected packages: flask-cors\n",
      "Successfully installed flask-cors-5.0.1\n",
      "Note: you may need to restart the kernel to use updated packages.\n"
     ]
    }
   ],
   "source": [
    "pip install flask-cors\n"
   ]
  },
  {
   "cell_type": "code",
   "execution_count": 8,
   "id": "dcf4b07e-3d29-4369-b244-de2ec42748e5",
   "metadata": {},
   "outputs": [
    {
     "ename": "SyntaxError",
     "evalue": "invalid syntax (819047717.py, line 1)",
     "output_type": "error",
     "traceback": [
      "\u001b[1;36m  Cell \u001b[1;32mIn[8], line 1\u001b[1;36m\u001b[0m\n\u001b[1;33m    python -i app.py\u001b[0m\n\u001b[1;37m              ^\u001b[0m\n\u001b[1;31mSyntaxError\u001b[0m\u001b[1;31m:\u001b[0m invalid syntax\n"
     ]
    }
   ],
   "source": [
    "python -i app.py\n"
   ]
  },
  {
   "cell_type": "code",
   "execution_count": null,
   "id": "a12c658f-b898-46e8-80eb-e424428675a6",
   "metadata": {},
   "outputs": [],
   "source": []
  }
 ],
 "metadata": {
  "kernelspec": {
   "display_name": "Python 3 (ipykernel)",
   "language": "python",
   "name": "python3"
  },
  "language_info": {
   "codemirror_mode": {
    "name": "ipython",
    "version": 3
   },
   "file_extension": ".py",
   "mimetype": "text/x-python",
   "name": "python",
   "nbconvert_exporter": "python",
   "pygments_lexer": "ipython3",
   "version": "3.13.0"
  }
 },
 "nbformat": 4,
 "nbformat_minor": 5
}
